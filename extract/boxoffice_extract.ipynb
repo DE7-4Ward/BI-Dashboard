{
 "cells": [
  {
   "cell_type": "markdown",
   "id": "5728c531",
   "metadata": {},
   "source": [
    "#### 모듈 설치"
   ]
  },
  {
   "cell_type": "code",
   "execution_count": null,
   "id": "ab347285",
   "metadata": {},
   "outputs": [],
   "source": [
    "%pip install python-dotenv requests boto3 psycopg2-binary"
   ]
  },
  {
   "cell_type": "markdown",
   "id": "2d97b87b",
   "metadata": {},
   "source": [
    "#### 환경변수 로드 및 저장할 폴더 준비"
   ]
  },
  {
   "cell_type": "code",
   "execution_count": 6,
   "id": "780ba8bb",
   "metadata": {},
   "outputs": [],
   "source": [
    "import os\n",
    "from dotenv import load_dotenv\n",
    "from pathlib import Path\n",
    "\n",
    "# 환경 변수 로드\n",
    "load_dotenv()\n",
    "\n",
    "API_KEY = os.getenv(\"KOBIS_API_KEY\")\n",
    "\n",
    "AWS_ACCESS_KEY_ID = os.getenv(\"AWS_ACCESS_KEY_ID\")\n",
    "AWS_SECRET_ACCESS_KEY = os.getenv(\"AWS_SECRET_ACCESS_KEY\")\n",
    "AWS_REGION = os.getenv(\"AWS_REGION\")\n",
    "S3_BUCKET_NAME = os.getenv(\"S3_BUCKET_NAME\")\n",
    "\n",
    "REDSHIFT_HOST = os.getenv(\"REDSHIFT_HOST\")\n",
    "REDSHIFT_PORT = os.getenv(\"REDSHIFT_PORT\")\n",
    "REDSHIFT_DB = os.getenv(\"REDSHIFT_DB\")\n",
    "REDSHIFT_USER = os.getenv(\"REDSHIFT_USER\")\n",
    "REDSHIFT_PASSWORD = os.getenv(\"REDSHIFT_PASSWORD\")\n",
    "IAM_ROLE_ARN = os.getenv(\"IAM_ROLE_ARN\")\n",
    "\n",
    "# 저장할 폴더 준비\n",
    "project_folder = project_folder = Path.cwd().parent\n",
    "raw_data_dir = project_folder / \"raw_data\" / \"boxoffice\"\n",
    "raw_data_dir.mkdir(exist_ok=True)"
   ]
  },
  {
   "cell_type": "code",
   "execution_count": 7,
   "id": "6b38a54b",
   "metadata": {},
   "outputs": [
    {
     "name": "stdout",
     "output_type": "stream",
     "text": [
      "KOBIS_API_KEY\n"
     ]
    }
   ],
   "source": [
    "print(API_KEY)"
   ]
  }
 ],
 "metadata": {
  "kernelspec": {
   "display_name": "4ward-venv",
   "language": "python",
   "name": "python3"
  },
  "language_info": {
   "codemirror_mode": {
    "name": "ipython",
    "version": 3
   },
   "file_extension": ".py",
   "mimetype": "text/x-python",
   "name": "python",
   "nbconvert_exporter": "python",
   "pygments_lexer": "ipython3",
   "version": "3.13.5"
  }
 },
 "nbformat": 4,
 "nbformat_minor": 5
}
